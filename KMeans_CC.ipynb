{
  "nbformat": 4,
  "nbformat_minor": 0,
  "metadata": {
    "colab": {
      "provenance": [],
      "authorship_tag": "ABX9TyPiRyT4U9JkWK2F1fXI9e1K",
      "include_colab_link": true
    },
    "kernelspec": {
      "name": "python3",
      "display_name": "Python 3"
    },
    "language_info": {
      "name": "python"
    }
  },
  "cells": [
    {
      "cell_type": "markdown",
      "metadata": {
        "id": "view-in-github",
        "colab_type": "text"
      },
      "source": [
        "<a href=\"https://colab.research.google.com/github/Mohammadi-Nilofer/ML-assignments/blob/K-Means/KMeans_CC.ipynb\" target=\"_parent\"><img src=\"https://colab.research.google.com/assets/colab-badge.svg\" alt=\"Open In Colab\"/></a>"
      ]
    },
    {
      "cell_type": "markdown",
      "source": [
        "**Context :**\n",
        "\n",
        "This case requires to develop a customer segmentation to define marketing strategy. The sample Dataset summarizes the usage behavior of about 9000 active credit card holders during the last 6 months. The file is at a customer level with 18 behavioral variables.\n",
        "\n",
        "**Objectives :**\n",
        "\n",
        "* Segment customers based on behavior.\n",
        "* Gain insights into customer preferences.\n",
        "* Develop targeted marketing strategies.\n",
        "* Improve marketing outcomes and customer relation\n",
        "\n",
        "**Data Dictionary for Credit Card dataset :-**\n",
        "\n",
        "CUST_ID : Identification of Credit Card holder (Categorical)\n",
        "\n",
        "BALANCE : Balance amount left in their account to make purchases\n",
        "\n",
        "BALANCE_FREQUENCY : How frequently the Balance is updated, score between 0 and 1 (1 = frequently updated, 0 = not frequently updated)\n",
        "\n",
        "PURCHASES : Amount of purchases made from account\n",
        "\n",
        "ONEOFF_PURCHASES : Maximum purchase amount done in one-go\n",
        "\n",
        "INSTALLMENTS_PURCHASES : Amount of purchase done in installment\n",
        "\n",
        "CASH_ADVANCE : Cash in advance given by the user\n",
        "\n",
        "PURCHASES_FREQUENCY : How frequently the Purchases are being made, score between 0 and 1 (1 = frequently purchased, 0 = not frequently purchased)\n",
        "\n",
        "ONEOFFPURCHASESFREQUENCY : How frequently Purchases are happening in one-go (1 = frequently purchased, 0 = not frequently purchased)\n",
        "\n",
        "PURCHASESINSTALLMENTSFREQUENCY : How frequently purchases in installments are being done (1 = frequently done, 0 = not frequently done)\n",
        "\n",
        "CASHADVANCEFREQUENCY : How frequently the cash in advance being paid\n",
        "\n",
        "CASHADVANCETRX : Number of Transactions made with \"Cash in Advanced\"\n",
        "\n",
        "PURCHASES_TRX : Numbe of purchase transactions made\n",
        "\n",
        "CREDIT_LIMIT : Limit of Credit Card for user\n",
        "\n",
        "PAYMENTS : Amount of Payment done by user\n",
        "MINIMUM_PAYMENTS : Minimum amount of payments made by user\n",
        "\n",
        "PRCFULLPAYMENT : Percent of full payment paid by user\n",
        "\n",
        "TENURE : Tenure of credit card service for user"
      ],
      "metadata": {
        "id": "fCpFclLTgJb-"
      }
    },
    {
      "cell_type": "code",
      "execution_count": null,
      "metadata": {
        "id": "ghfCC6aEgH79"
      },
      "outputs": [],
      "source": []
    }
  ]
}